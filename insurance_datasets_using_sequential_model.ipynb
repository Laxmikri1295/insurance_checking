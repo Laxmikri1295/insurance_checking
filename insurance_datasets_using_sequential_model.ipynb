{
 "cells": [
  {
   "cell_type": "code",
   "execution_count": 1,
   "id": "122e0021",
   "metadata": {},
   "outputs": [],
   "source": [
    "import tensorflow as tf\n",
    "from tensorflow import keras \n",
    "import pandas as pd\n",
    "import numpy as np"
   ]
  },
  {
   "cell_type": "code",
   "execution_count": 2,
   "id": "1b205acb",
   "metadata": {},
   "outputs": [
    {
     "data": {
      "text/html": [
       "<div>\n",
       "<style scoped>\n",
       "    .dataframe tbody tr th:only-of-type {\n",
       "        vertical-align: middle;\n",
       "    }\n",
       "\n",
       "    .dataframe tbody tr th {\n",
       "        vertical-align: top;\n",
       "    }\n",
       "\n",
       "    .dataframe thead th {\n",
       "        text-align: right;\n",
       "    }\n",
       "</style>\n",
       "<table border=\"1\" class=\"dataframe\">\n",
       "  <thead>\n",
       "    <tr style=\"text-align: right;\">\n",
       "      <th></th>\n",
       "      <th>age</th>\n",
       "      <th>bought_insurance</th>\n",
       "      <th>affordability</th>\n",
       "    </tr>\n",
       "  </thead>\n",
       "  <tbody>\n",
       "    <tr>\n",
       "      <th>0</th>\n",
       "      <td>22</td>\n",
       "      <td>0</td>\n",
       "      <td>1</td>\n",
       "    </tr>\n",
       "    <tr>\n",
       "      <th>1</th>\n",
       "      <td>25</td>\n",
       "      <td>0</td>\n",
       "      <td>0</td>\n",
       "    </tr>\n",
       "    <tr>\n",
       "      <th>2</th>\n",
       "      <td>47</td>\n",
       "      <td>1</td>\n",
       "      <td>1</td>\n",
       "    </tr>\n",
       "    <tr>\n",
       "      <th>3</th>\n",
       "      <td>52</td>\n",
       "      <td>0</td>\n",
       "      <td>0</td>\n",
       "    </tr>\n",
       "    <tr>\n",
       "      <th>4</th>\n",
       "      <td>46</td>\n",
       "      <td>1</td>\n",
       "      <td>1</td>\n",
       "    </tr>\n",
       "  </tbody>\n",
       "</table>\n",
       "</div>"
      ],
      "text/plain": [
       "   age  bought_insurance  affordability\n",
       "0   22                 0              1\n",
       "1   25                 0              0\n",
       "2   47                 1              1\n",
       "3   52                 0              0\n",
       "4   46                 1              1"
      ]
     },
     "execution_count": 2,
     "metadata": {},
     "output_type": "execute_result"
    }
   ],
   "source": [
    "df = pd.read_csv(\"insurance_data.csv\")\n",
    "df.head()"
   ]
  },
  {
   "cell_type": "code",
   "execution_count": 3,
   "id": "7276d1f1",
   "metadata": {},
   "outputs": [
    {
     "data": {
      "text/html": [
       "<div>\n",
       "<style scoped>\n",
       "    .dataframe tbody tr th:only-of-type {\n",
       "        vertical-align: middle;\n",
       "    }\n",
       "\n",
       "    .dataframe tbody tr th {\n",
       "        vertical-align: top;\n",
       "    }\n",
       "\n",
       "    .dataframe thead th {\n",
       "        text-align: right;\n",
       "    }\n",
       "</style>\n",
       "<table border=\"1\" class=\"dataframe\">\n",
       "  <thead>\n",
       "    <tr style=\"text-align: right;\">\n",
       "      <th></th>\n",
       "      <th>age</th>\n",
       "      <th>affordability</th>\n",
       "    </tr>\n",
       "  </thead>\n",
       "  <tbody>\n",
       "    <tr>\n",
       "      <th>0</th>\n",
       "      <td>22</td>\n",
       "      <td>1</td>\n",
       "    </tr>\n",
       "    <tr>\n",
       "      <th>1</th>\n",
       "      <td>25</td>\n",
       "      <td>0</td>\n",
       "    </tr>\n",
       "    <tr>\n",
       "      <th>2</th>\n",
       "      <td>47</td>\n",
       "      <td>1</td>\n",
       "    </tr>\n",
       "    <tr>\n",
       "      <th>3</th>\n",
       "      <td>52</td>\n",
       "      <td>0</td>\n",
       "    </tr>\n",
       "    <tr>\n",
       "      <th>4</th>\n",
       "      <td>46</td>\n",
       "      <td>1</td>\n",
       "    </tr>\n",
       "    <tr>\n",
       "      <th>5</th>\n",
       "      <td>56</td>\n",
       "      <td>1</td>\n",
       "    </tr>\n",
       "    <tr>\n",
       "      <th>6</th>\n",
       "      <td>55</td>\n",
       "      <td>0</td>\n",
       "    </tr>\n",
       "    <tr>\n",
       "      <th>7</th>\n",
       "      <td>60</td>\n",
       "      <td>0</td>\n",
       "    </tr>\n",
       "    <tr>\n",
       "      <th>8</th>\n",
       "      <td>62</td>\n",
       "      <td>1</td>\n",
       "    </tr>\n",
       "    <tr>\n",
       "      <th>9</th>\n",
       "      <td>61</td>\n",
       "      <td>1</td>\n",
       "    </tr>\n",
       "    <tr>\n",
       "      <th>10</th>\n",
       "      <td>18</td>\n",
       "      <td>1</td>\n",
       "    </tr>\n",
       "    <tr>\n",
       "      <th>11</th>\n",
       "      <td>28</td>\n",
       "      <td>1</td>\n",
       "    </tr>\n",
       "    <tr>\n",
       "      <th>12</th>\n",
       "      <td>27</td>\n",
       "      <td>1</td>\n",
       "    </tr>\n",
       "    <tr>\n",
       "      <th>13</th>\n",
       "      <td>29</td>\n",
       "      <td>0</td>\n",
       "    </tr>\n",
       "    <tr>\n",
       "      <th>14</th>\n",
       "      <td>49</td>\n",
       "      <td>1</td>\n",
       "    </tr>\n",
       "    <tr>\n",
       "      <th>15</th>\n",
       "      <td>55</td>\n",
       "      <td>0</td>\n",
       "    </tr>\n",
       "    <tr>\n",
       "      <th>16</th>\n",
       "      <td>25</td>\n",
       "      <td>0</td>\n",
       "    </tr>\n",
       "    <tr>\n",
       "      <th>17</th>\n",
       "      <td>58</td>\n",
       "      <td>1</td>\n",
       "    </tr>\n",
       "    <tr>\n",
       "      <th>18</th>\n",
       "      <td>19</td>\n",
       "      <td>1</td>\n",
       "    </tr>\n",
       "    <tr>\n",
       "      <th>19</th>\n",
       "      <td>18</td>\n",
       "      <td>0</td>\n",
       "    </tr>\n",
       "    <tr>\n",
       "      <th>20</th>\n",
       "      <td>21</td>\n",
       "      <td>1</td>\n",
       "    </tr>\n",
       "    <tr>\n",
       "      <th>21</th>\n",
       "      <td>26</td>\n",
       "      <td>0</td>\n",
       "    </tr>\n",
       "    <tr>\n",
       "      <th>22</th>\n",
       "      <td>40</td>\n",
       "      <td>0</td>\n",
       "    </tr>\n",
       "    <tr>\n",
       "      <th>23</th>\n",
       "      <td>45</td>\n",
       "      <td>1</td>\n",
       "    </tr>\n",
       "    <tr>\n",
       "      <th>24</th>\n",
       "      <td>50</td>\n",
       "      <td>0</td>\n",
       "    </tr>\n",
       "    <tr>\n",
       "      <th>25</th>\n",
       "      <td>54</td>\n",
       "      <td>1</td>\n",
       "    </tr>\n",
       "    <tr>\n",
       "      <th>26</th>\n",
       "      <td>23</td>\n",
       "      <td>1</td>\n",
       "    </tr>\n",
       "  </tbody>\n",
       "</table>\n",
       "</div>"
      ],
      "text/plain": [
       "    age  affordability\n",
       "0    22              1\n",
       "1    25              0\n",
       "2    47              1\n",
       "3    52              0\n",
       "4    46              1\n",
       "5    56              1\n",
       "6    55              0\n",
       "7    60              0\n",
       "8    62              1\n",
       "9    61              1\n",
       "10   18              1\n",
       "11   28              1\n",
       "12   27              1\n",
       "13   29              0\n",
       "14   49              1\n",
       "15   55              0\n",
       "16   25              0\n",
       "17   58              1\n",
       "18   19              1\n",
       "19   18              0\n",
       "20   21              1\n",
       "21   26              0\n",
       "22   40              0\n",
       "23   45              1\n",
       "24   50              0\n",
       "25   54              1\n",
       "26   23              1"
      ]
     },
     "execution_count": 3,
     "metadata": {},
     "output_type": "execute_result"
    }
   ],
   "source": [
    "x = df.drop(['bought_insurance'] ,axis ='columns')\n",
    "x"
   ]
  },
  {
   "cell_type": "code",
   "execution_count": 4,
   "id": "63b2fa80",
   "metadata": {},
   "outputs": [],
   "source": [
    "from sklearn.model_selection import train_test_split\n",
    "x_train ,x_test , y_train,  y_test = train_test_split( x ,df.bought_insurance , test_size =0.25)"
   ]
  },
  {
   "cell_type": "code",
   "execution_count": 5,
   "id": "90f3a87c",
   "metadata": {},
   "outputs": [
    {
     "data": {
      "text/plain": [
       "(20, 2)"
      ]
     },
     "execution_count": 5,
     "metadata": {},
     "output_type": "execute_result"
    }
   ],
   "source": [
    "x_train.shape"
   ]
  },
  {
   "cell_type": "code",
   "execution_count": 6,
   "id": "f5c4db06",
   "metadata": {},
   "outputs": [
    {
     "data": {
      "text/plain": [
       "25    1\n",
       "7     1\n",
       "6     0\n",
       "15    1\n",
       "16    1\n",
       "10    0\n",
       "4     1\n",
       "22    1\n",
       "0     0\n",
       "26    0\n",
       "24    1\n",
       "5     1\n",
       "20    0\n",
       "18    0\n",
       "3     0\n",
       "12    0\n",
       "9     1\n",
       "2     1\n",
       "8     1\n",
       "21    0\n",
       "Name: bought_insurance, dtype: int64"
      ]
     },
     "execution_count": 6,
     "metadata": {},
     "output_type": "execute_result"
    }
   ],
   "source": [
    "y_train"
   ]
  },
  {
   "cell_type": "code",
   "execution_count": 7,
   "id": "fdcfb356",
   "metadata": {},
   "outputs": [
    {
     "data": {
      "text/plain": [
       "(7, 2)"
      ]
     },
     "execution_count": 7,
     "metadata": {},
     "output_type": "execute_result"
    }
   ],
   "source": [
    "x_test.shape"
   ]
  },
  {
   "cell_type": "code",
   "execution_count": 8,
   "id": "ab40cc53",
   "metadata": {},
   "outputs": [
    {
     "data": {
      "text/plain": [
       "(7,)"
      ]
     },
     "execution_count": 8,
     "metadata": {},
     "output_type": "execute_result"
    }
   ],
   "source": [
    "y_test.shape"
   ]
  },
  {
   "cell_type": "code",
   "execution_count": 9,
   "id": "c468c58f",
   "metadata": {},
   "outputs": [],
   "source": [
    "#data scaling\n",
    "x_train_scaled = x_train.copy()\n",
    "x_train_scaled['age'] = x_train_scaled['age']/100\n",
    "x_test_scaled = x_test.copy()\n",
    "x_test_scaled['age'] = x_test_scaled['age']/100"
   ]
  },
  {
   "cell_type": "code",
   "execution_count": 10,
   "id": "c54ea53a",
   "metadata": {},
   "outputs": [
    {
     "name": "stdout",
     "output_type": "stream",
     "text": [
      "Epoch 1/50\n",
      "1/1 [==============================] - 1s 727ms/step - loss: 0.7650 - accuracy: 0.5500\n",
      "Epoch 2/50\n",
      "1/1 [==============================] - 0s 16ms/step - loss: 0.7646 - accuracy: 0.5500\n",
      "Epoch 3/50\n",
      "1/1 [==============================] - 0s 0s/step - loss: 0.7643 - accuracy: 0.5500\n",
      "Epoch 4/50\n",
      "1/1 [==============================] - 0s 0s/step - loss: 0.7639 - accuracy: 0.5500\n",
      "Epoch 5/50\n",
      "1/1 [==============================] - 0s 0s/step - loss: 0.7635 - accuracy: 0.5500\n",
      "Epoch 6/50\n",
      "1/1 [==============================] - 0s 0s/step - loss: 0.7632 - accuracy: 0.5500\n",
      "Epoch 7/50\n",
      "1/1 [==============================] - 0s 0s/step - loss: 0.7628 - accuracy: 0.5500\n",
      "Epoch 8/50\n",
      "1/1 [==============================] - 0s 0s/step - loss: 0.7624 - accuracy: 0.5500\n",
      "Epoch 9/50\n",
      "1/1 [==============================] - 0s 0s/step - loss: 0.7621 - accuracy: 0.5500\n",
      "Epoch 10/50\n",
      "1/1 [==============================] - 0s 0s/step - loss: 0.7617 - accuracy: 0.5500\n",
      "Epoch 11/50\n",
      "1/1 [==============================] - 0s 16ms/step - loss: 0.7614 - accuracy: 0.5500\n",
      "Epoch 12/50\n",
      "1/1 [==============================] - 0s 0s/step - loss: 0.7610 - accuracy: 0.5500\n",
      "Epoch 13/50\n",
      "1/1 [==============================] - 0s 0s/step - loss: 0.7606 - accuracy: 0.5500\n",
      "Epoch 14/50\n",
      "1/1 [==============================] - 0s 0s/step - loss: 0.7603 - accuracy: 0.5500\n",
      "Epoch 15/50\n",
      "1/1 [==============================] - 0s 0s/step - loss: 0.7599 - accuracy: 0.5500\n",
      "Epoch 16/50\n",
      "1/1 [==============================] - 0s 16ms/step - loss: 0.7595 - accuracy: 0.5500\n",
      "Epoch 17/50\n",
      "1/1 [==============================] - 0s 0s/step - loss: 0.7592 - accuracy: 0.5500\n",
      "Epoch 18/50\n",
      "1/1 [==============================] - 0s 16ms/step - loss: 0.7588 - accuracy: 0.5500\n",
      "Epoch 19/50\n",
      "1/1 [==============================] - 0s 0s/step - loss: 0.7585 - accuracy: 0.5500\n",
      "Epoch 20/50\n",
      "1/1 [==============================] - 0s 1ms/step - loss: 0.7581 - accuracy: 0.5500\n",
      "Epoch 21/50\n",
      "1/1 [==============================] - 0s 0s/step - loss: 0.7578 - accuracy: 0.5500\n",
      "Epoch 22/50\n",
      "1/1 [==============================] - 0s 0s/step - loss: 0.7574 - accuracy: 0.5500\n",
      "Epoch 23/50\n",
      "1/1 [==============================] - 0s 0s/step - loss: 0.7571 - accuracy: 0.5500\n",
      "Epoch 24/50\n",
      "1/1 [==============================] - 0s 0s/step - loss: 0.7567 - accuracy: 0.5500\n",
      "Epoch 25/50\n",
      "1/1 [==============================] - 0s 0s/step - loss: 0.7564 - accuracy: 0.5500\n",
      "Epoch 26/50\n",
      "1/1 [==============================] - 0s 0s/step - loss: 0.7560 - accuracy: 0.5500\n",
      "Epoch 27/50\n",
      "1/1 [==============================] - 0s 0s/step - loss: 0.7557 - accuracy: 0.5500\n",
      "Epoch 28/50\n",
      "1/1 [==============================] - 0s 0s/step - loss: 0.7553 - accuracy: 0.5500\n",
      "Epoch 29/50\n",
      "1/1 [==============================] - 0s 0s/step - loss: 0.7550 - accuracy: 0.5500\n",
      "Epoch 30/50\n",
      "1/1 [==============================] - 0s 0s/step - loss: 0.7546 - accuracy: 0.5500\n",
      "Epoch 31/50\n",
      "1/1 [==============================] - 0s 0s/step - loss: 0.7543 - accuracy: 0.5500\n",
      "Epoch 32/50\n",
      "1/1 [==============================] - 0s 0s/step - loss: 0.7539 - accuracy: 0.5500\n",
      "Epoch 33/50\n",
      "1/1 [==============================] - 0s 16ms/step - loss: 0.7536 - accuracy: 0.5500\n",
      "Epoch 34/50\n",
      "1/1 [==============================] - 0s 16ms/step - loss: 0.7533 - accuracy: 0.5500\n",
      "Epoch 35/50\n",
      "1/1 [==============================] - 0s 0s/step - loss: 0.7529 - accuracy: 0.5500\n",
      "Epoch 36/50\n",
      "1/1 [==============================] - 0s 16ms/step - loss: 0.7526 - accuracy: 0.5500\n",
      "Epoch 37/50\n",
      "1/1 [==============================] - 0s 0s/step - loss: 0.7522 - accuracy: 0.5500\n",
      "Epoch 38/50\n",
      "1/1 [==============================] - 0s 0s/step - loss: 0.7519 - accuracy: 0.5500\n",
      "Epoch 39/50\n",
      "1/1 [==============================] - 0s 0s/step - loss: 0.7516 - accuracy: 0.5500\n",
      "Epoch 40/50\n",
      "1/1 [==============================] - 0s 0s/step - loss: 0.7512 - accuracy: 0.5500\n",
      "Epoch 41/50\n",
      "1/1 [==============================] - 0s 16ms/step - loss: 0.7509 - accuracy: 0.5500\n",
      "Epoch 42/50\n",
      "1/1 [==============================] - 0s 0s/step - loss: 0.7506 - accuracy: 0.5500\n",
      "Epoch 43/50\n",
      "1/1 [==============================] - 0s 18ms/step - loss: 0.7502 - accuracy: 0.5500\n",
      "Epoch 44/50\n",
      "1/1 [==============================] - 0s 0s/step - loss: 0.7499 - accuracy: 0.5500\n",
      "Epoch 45/50\n",
      "1/1 [==============================] - 0s 16ms/step - loss: 0.7496 - accuracy: 0.5500\n",
      "Epoch 46/50\n",
      "1/1 [==============================] - 0s 0s/step - loss: 0.7493 - accuracy: 0.5500\n",
      "Epoch 47/50\n",
      "1/1 [==============================] - 0s 16ms/step - loss: 0.7489 - accuracy: 0.5500\n",
      "Epoch 48/50\n",
      "1/1 [==============================] - 0s 0s/step - loss: 0.7486 - accuracy: 0.5500\n",
      "Epoch 49/50\n",
      "1/1 [==============================] - 0s 16ms/step - loss: 0.7483 - accuracy: 0.5500\n",
      "Epoch 50/50\n",
      "1/1 [==============================] - 0s 0s/step - loss: 0.7480 - accuracy: 0.5500\n"
     ]
    },
    {
     "data": {
      "text/plain": [
       "<tensorflow.python.keras.callbacks.History at 0x19b5e0ad940>"
      ]
     },
     "execution_count": 10,
     "metadata": {},
     "output_type": "execute_result"
    }
   ],
   "source": [
    "model = keras.Sequential([\n",
    "    keras.layers.Dense(1, input_shape =( 2 , ) , activation ='sigmoid' , kernel_initializer = 'one' , bias_initializer = 'zeros')\n",
    "])\n",
    "\n",
    "model.compile(\n",
    "    optimizer = 'adam',\n",
    "    loss = 'binary_crossentropy',\n",
    "    metrics=['accuracy']\n",
    "              )\n",
    "model.fit(x_train_scaled , y_train , epochs = 50)\n"
   ]
  },
  {
   "cell_type": "code",
   "execution_count": 11,
   "id": "ef3cd45c",
   "metadata": {},
   "outputs": [
    {
     "data": {
      "text/plain": [
       "array([[0.5937444]], dtype=float32)"
      ]
     },
     "execution_count": 11,
     "metadata": {},
     "output_type": "execute_result"
    }
   ],
   "source": [
    "model.predict([[.45 , 0]])"
   ]
  },
  {
   "cell_type": "code",
   "execution_count": 12,
   "id": "87cded14",
   "metadata": {},
   "outputs": [
    {
     "name": "stdout",
     "output_type": "stream",
     "text": [
      "1/1 [==============================] - 0s 251ms/step - loss: 0.6388 - accuracy: 0.4286\n"
     ]
    },
    {
     "data": {
      "text/plain": [
       "[0.6387786865234375, 0.4285714328289032]"
      ]
     },
     "execution_count": 12,
     "metadata": {},
     "output_type": "execute_result"
    }
   ],
   "source": [
    "model.evaluate(x_test_scaled, y_test)"
   ]
  },
  {
   "cell_type": "code",
   "execution_count": 13,
   "id": "873f3e9d",
   "metadata": {},
   "outputs": [
    {
     "data": {
      "text/plain": [
       "array([0.9528802], dtype=float32)"
      ]
     },
     "execution_count": 13,
     "metadata": {},
     "output_type": "execute_result"
    }
   ],
   "source": [
    "slop , intersept = model.get_weights()\n",
    "slop[0]"
   ]
  },
  {
   "cell_type": "code",
   "execution_count": 14,
   "id": "f1d96088",
   "metadata": {},
   "outputs": [
    {
     "data": {
      "text/plain": [
       "array([-0.04932961], dtype=float32)"
      ]
     },
     "execution_count": 14,
     "metadata": {},
     "output_type": "execute_result"
    }
   ],
   "source": [
    "intersept"
   ]
  },
  {
   "cell_type": "code",
   "execution_count": 15,
   "id": "2e94c377",
   "metadata": {},
   "outputs": [],
   "source": [
    "def log_loss(y_trueth, y_predicted):\n",
    "    epsilon = 1e-15\n",
    "    y_predicted_new = [max(i,epsilon) for i in y_predicted]\n",
    "    y_predicted_new = [min(i, 1-epsilon) for i in y_predicted]\n",
    "    y_predicted_new = np.array(y_predicted_new)\n",
    "    loss = - np.mean(y_trueth*np.log(y_predicted_new) + (1-y_trueth)*np.log(1-y_predicted_new))\n",
    "    return loss"
   ]
  },
  {
   "cell_type": "code",
   "execution_count": 16,
   "id": "cc8643df",
   "metadata": {},
   "outputs": [],
   "source": [
    "def sigmoid(x):\n",
    "    return (1/(1+np.exp(-x)))"
   ]
  },
  {
   "cell_type": "code",
   "execution_count": 17,
   "id": "8b4b30fb",
   "metadata": {},
   "outputs": [],
   "source": [
    "def gradient_descent(age, affordability , y_trueth, epochs):\n",
    "    w1=1\n",
    "    w2=1\n",
    "    bias=0\n",
    "    n=len(age)\n",
    "    rate=0.001\n",
    "    for i in range(epochs):\n",
    "        y=w1*age+ w2*affordability + bias\n",
    "        y_predicted =sigmoid(y)\n",
    "        loss = log_loss(y_trueth,y_predicted)\n",
    "        w1d = (1/n)*np.dot(np.transpose(age), (y_predicted-y_trueth))\n",
    "        w2d = (1/n)*np.dot(np.transpose(affordability), (y_predicted-y_trueth))\n",
    "        dbias = (1/n)*(y_predicted-y_trueth)\n",
    "        w1 = w1-rate*w1d \n",
    "        w2 = w2-rate*w2d\n",
    "        bias = bias - rate*dbias\n",
    "        print(\"w1:\",w1,end=\" \")\n",
    "        print(\"w2:\" ,w2, end=\" \")\n",
    "        print( \"bias: \", bias )\n",
    "        if(loss==0.6297):\n",
    "            break;\n",
    "    return w1 , w2 ,bias \n",
    "        "
   ]
  },
  {
   "cell_type": "code",
   "execution_count": 18,
   "id": "ff9ff981",
   "metadata": {},
   "outputs": [
    {
     "name": "stdout",
     "output_type": "stream",
     "text": [
      "w1: 0.9865555555712591 w2: 0.9997407407410401 bias:  0    -3.703704e-05\n",
      "1    -3.703704e-05\n",
      "2     0.000000e+00\n",
      "3    -3.703704e-05\n",
      "4     0.000000e+00\n",
      "5     0.000000e+00\n",
      "6    -3.703704e-05\n",
      "7     0.000000e+00\n",
      "8     0.000000e+00\n",
      "9     0.000000e+00\n",
      "10   -3.703704e-05\n",
      "11   -3.703704e-05\n",
      "12   -3.703704e-05\n",
      "13   -3.703704e-05\n",
      "14    0.000000e+00\n",
      "15    0.000000e+00\n",
      "16    5.143704e-16\n",
      "17    0.000000e+00\n",
      "18   -3.703704e-05\n",
      "19   -3.703704e-05\n",
      "20   -3.703704e-05\n",
      "21   -3.703704e-05\n",
      "22    0.000000e+00\n",
      "23    0.000000e+00\n",
      "24    0.000000e+00\n",
      "25    0.000000e+00\n",
      "26   -3.703704e-05\n",
      "dtype: float64\n",
      "w1: 0.9731111111468695 w2: 0.9994814814821646 bias:  0    -7.407407e-05\n",
      "1    -7.407407e-05\n",
      "2     0.000000e+00\n",
      "3    -7.407407e-05\n",
      "4     0.000000e+00\n",
      "5     0.000000e+00\n",
      "6    -7.407407e-05\n",
      "7     0.000000e+00\n",
      "8     0.000000e+00\n",
      "9     0.000000e+00\n",
      "10   -7.407407e-05\n",
      "11   -7.407407e-05\n",
      "12   -7.407407e-05\n",
      "13   -7.407407e-05\n",
      "14    0.000000e+00\n",
      "15    0.000000e+00\n",
      "16    1.234223e-15\n",
      "17    0.000000e+00\n",
      "18   -7.407407e-05\n",
      "19   -7.407407e-05\n",
      "20   -7.407407e-05\n",
      "21   -7.407407e-05\n",
      "22    0.000000e+00\n",
      "23    0.000000e+00\n",
      "24    0.000000e+00\n",
      "25    0.000000e+00\n",
      "26   -7.407407e-05\n",
      "dtype: float64\n",
      "w1: 0.9596666667280394 w2: 0.9992222222233973 bias:  0    -1.111111e-04\n",
      "1    -1.111111e-04\n",
      "2     0.000000e+00\n",
      "3    -1.111111e-04\n",
      "4     0.000000e+00\n",
      "5     0.000000e+00\n",
      "6    -1.111111e-04\n",
      "7     0.000000e+00\n",
      "8     0.000000e+00\n",
      "9     0.000000e+00\n",
      "10   -1.111111e-04\n",
      "11   -1.111111e-04\n",
      "12   -1.111111e-04\n",
      "13   -1.111111e-04\n",
      "14    0.000000e+00\n",
      "15    0.000000e+00\n",
      "16    2.241655e-15\n",
      "17    0.000000e+00\n",
      "18   -1.111111e-04\n",
      "19   -1.111111e-04\n",
      "20   -1.111111e-04\n",
      "21   -1.111111e-04\n",
      "22    0.000000e+00\n",
      "23    0.000000e+00\n",
      "24    0.000000e+00\n",
      "25    0.000000e+00\n",
      "26   -1.111111e-04\n",
      "dtype: float64\n",
      "w1: 0.9462222223163123 w2: 0.9989629629647687 bias:  0    -1.481481e-04\n",
      "1    -1.481481e-04\n",
      "2     0.000000e+00\n",
      "3    -1.481481e-04\n",
      "4     0.000000e+00\n",
      "5     0.000000e+00\n",
      "6    -1.481481e-04\n",
      "7     0.000000e+00\n",
      "8     0.000000e+00\n",
      "9     0.000000e+00\n",
      "10   -1.481481e-04\n",
      "11   -1.481481e-04\n",
      "12   -1.481481e-04\n",
      "13   -1.481481e-04\n",
      "14    0.000000e+00\n",
      "15    0.000000e+00\n",
      "16    3.651556e-15\n",
      "17    0.000000e+00\n",
      "18   -1.481481e-04\n",
      "19   -1.481481e-04\n",
      "20   -1.481481e-04\n",
      "21   -1.481481e-04\n",
      "22    0.000000e+00\n",
      "23    0.000000e+00\n",
      "24    0.000000e+00\n",
      "25    0.000000e+00\n",
      "26   -1.481481e-04\n",
      "dtype: float64\n",
      "w1: 0.9327777779136619 w2: 0.9987037037063181 bias:  0    -1.851852e-04\n",
      "1    -1.851852e-04\n",
      "2     0.000000e+00\n",
      "3    -1.851852e-04\n",
      "4     0.000000e+00\n",
      "5     0.000000e+00\n",
      "6    -1.851852e-04\n",
      "7     0.000000e+00\n",
      "8     0.000000e+00\n",
      "9     0.000000e+00\n",
      "10   -1.851852e-04\n",
      "11   -1.851852e-04\n",
      "12   -1.851852e-04\n",
      "13   -1.851852e-04\n",
      "14    0.000000e+00\n",
      "15    0.000000e+00\n",
      "16    5.624702e-15\n",
      "17    0.000000e+00\n",
      "18   -1.851852e-04\n",
      "19   -1.851852e-04\n",
      "20   -1.851852e-04\n",
      "21   -1.851852e-04\n",
      "22    0.000000e+00\n",
      "23    0.000000e+00\n",
      "24    0.000000e+00\n",
      "25    0.000000e+00\n",
      "26   -1.851852e-04\n",
      "dtype: float64\n"
     ]
    },
    {
     "data": {
      "text/plain": [
       "(0.9327777779136619,\n",
       " 0.9987037037063181,\n",
       " 0    -1.851852e-04\n",
       " 1    -1.851852e-04\n",
       " 2     0.000000e+00\n",
       " 3    -1.851852e-04\n",
       " 4     0.000000e+00\n",
       " 5     0.000000e+00\n",
       " 6    -1.851852e-04\n",
       " 7     0.000000e+00\n",
       " 8     0.000000e+00\n",
       " 9     0.000000e+00\n",
       " 10   -1.851852e-04\n",
       " 11   -1.851852e-04\n",
       " 12   -1.851852e-04\n",
       " 13   -1.851852e-04\n",
       " 14    0.000000e+00\n",
       " 15    0.000000e+00\n",
       " 16    5.624702e-15\n",
       " 17    0.000000e+00\n",
       " 18   -1.851852e-04\n",
       " 19   -1.851852e-04\n",
       " 20   -1.851852e-04\n",
       " 21   -1.851852e-04\n",
       " 22    0.000000e+00\n",
       " 23    0.000000e+00\n",
       " 24    0.000000e+00\n",
       " 25    0.000000e+00\n",
       " 26   -1.851852e-04\n",
       " dtype: float64)"
      ]
     },
     "execution_count": 18,
     "metadata": {},
     "output_type": "execute_result"
    }
   ],
   "source": [
    "gradient_descent( x.age , x.affordability ,  df.bought_insurance,5 )"
   ]
  },
  {
   "cell_type": "code",
   "execution_count": 19,
   "id": "e30643a7",
   "metadata": {},
   "outputs": [],
   "source": [
    "def batch_gradient_descent(x,y_true,epochs,learning_rate=0.01):\n",
    "    number_of_feature=x.shape[1]"
   ]
  },
  {
   "cell_type": "code",
   "execution_count": null,
   "id": "16a6885e",
   "metadata": {},
   "outputs": [],
   "source": []
  },
  {
   "cell_type": "code",
   "execution_count": null,
   "id": "cf802b26",
   "metadata": {},
   "outputs": [],
   "source": []
  },
  {
   "cell_type": "code",
   "execution_count": null,
   "id": "aa45a14f",
   "metadata": {},
   "outputs": [],
   "source": []
  },
  {
   "cell_type": "code",
   "execution_count": null,
   "id": "1f322b03",
   "metadata": {},
   "outputs": [],
   "source": []
  },
  {
   "cell_type": "code",
   "execution_count": null,
   "id": "790ea1af",
   "metadata": {},
   "outputs": [],
   "source": []
  },
  {
   "cell_type": "code",
   "execution_count": null,
   "id": "199ebf0a",
   "metadata": {},
   "outputs": [],
   "source": []
  },
  {
   "cell_type": "code",
   "execution_count": null,
   "id": "e27e774d",
   "metadata": {},
   "outputs": [],
   "source": []
  }
 ],
 "metadata": {
  "kernelspec": {
   "display_name": "Python 3",
   "language": "python",
   "name": "python3"
  },
  "language_info": {
   "codemirror_mode": {
    "name": "ipython",
    "version": 3
   },
   "file_extension": ".py",
   "mimetype": "text/x-python",
   "name": "python",
   "nbconvert_exporter": "python",
   "pygments_lexer": "ipython3",
   "version": "3.8.8"
  }
 },
 "nbformat": 4,
 "nbformat_minor": 5
}
